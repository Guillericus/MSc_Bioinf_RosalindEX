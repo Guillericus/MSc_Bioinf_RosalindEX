{
 "cells": [
  {
   "attachments": {},
   "cell_type": "markdown",
   "metadata": {},
   "source": [
    "Problem 4 - Constructing a De Bruijn Graph"
   ]
  },
  {
   "cell_type": "code",
   "execution_count": 9,
   "metadata": {},
   "outputs": [],
   "source": [
    "##1.Build a sorted list with the estandar and the reverse_complement sequences\n",
    "\n",
    "#Create a set wih the input file sequences to eliminate duplicated sequences\n",
    "input = open(\"./R4_testSC.txt\", \"rt\")\n",
    "\n",
    "seq_set = set() #Create an empty set\n",
    "for line in input: \n",
    "    seq_set.add(line.replace(\"\\n\",\"\")) #Append each line of the input file in a set\n",
    "\n",
    "input.close()\n",
    "\n",
    "#Create another set with the reverse complement\n",
    "def reverse_complement(sequence): #Reverse-complement function\n",
    "    complement = { #Complement dictionary\n",
    "    \"A\": \"T\", \n",
    "    \"C\": \"G\", \n",
    "    \"G\": \"C\", \n",
    "    \"T\": \"A\"\n",
    "    }\n",
    "\n",
    "    rev_seq = sequence[::-1] #Reverse the sequence\n",
    "    rc_seq = \"\"\n",
    "    for i in rev_seq: #For each nucleotide in the reverse sequence...\n",
    "        rc_seq += complement[i] #Append the complement nucleotide\n",
    "    return rc_seq\n",
    "\n",
    "rc_set = set() #Create an empty set\n",
    "for seq in seq_set: #For each sequence in the initial set...\n",
    "    rc_seq = reverse_complement(seq) #Calculate the reverse-complement\n",
    "    rc_set.add(rc_seq) #Append it to the reverse-complement set\n",
    "\n",
    "\n",
    "#Convert the set to list, in orther to sort them\n",
    "seq_set.update(rc_set) #Merge two sets (avoiding duplicate sequences)\n",
    "\n",
    "seq_list = list(seq_set) #Convert the set to a list\n",
    "seq_list.sort() #Sort it\n",
    "\n",
    "\n",
    "##2. Constructing the DeBruijn Graph\n",
    "\n",
    "#Create the substrings pairs: from TAGC = (TAG, AGC) and write them in a text file\n",
    "out = open(\"./R4_output.txt\", \"wt\") \n",
    "\n",
    "blank = \"Yes\" #At the beggining, the output file has no lines\n",
    "\n",
    "for seq in seq_list:\n",
    "    substring1 = seq[0:len(seq)-1]\n",
    "    substring2 = seq[1:len(seq)]\n",
    "    #print(substring1)\n",
    "    \n",
    "    if blank == \"Yes\":\n",
    "        blank = \"No\"\n",
    "    else:\n",
    "        out.write(\"\\n\")\n",
    "    out.write(\"(\" + substring1 + \", \" + substring2 + \")\")\n",
    "\n",
    "out.close()"
   ]
  },
  {
   "cell_type": "code",
   "execution_count": 4,
   "metadata": {},
   "outputs": [],
   "source": [
    "#Set notes\n",
    "\n",
    "myset = {2, 4, 5, 6, 6, 5, 7, 6} #A set removes two equal values, myset = {2, 4, 5, 6, 7}\n",
    "\n",
    "myset.add(8) #Add one value\n",
    "myset.update([10, 15, 18]) #Add more than 1 value (as a list)\n",
    "myset.discard(2) #Discard an element\n",
    "\n",
    "empty_set = set() #Create an empty set\n",
    "\n",
    "os.system(\"awk 'NR>2 {print last} {last=$0}'\")"
   ]
  }
 ],
 "metadata": {
  "kernelspec": {
   "display_name": "base",
   "language": "python",
   "name": "python3"
  },
  "language_info": {
   "codemirror_mode": {
    "name": "ipython",
    "version": 3
   },
   "file_extension": ".py",
   "mimetype": "text/x-python",
   "name": "python",
   "nbconvert_exporter": "python",
   "pygments_lexer": "ipython3",
   "version": "3.9.12"
  },
  "orig_nbformat": 4,
  "vscode": {
   "interpreter": {
    "hash": "aa4479e0c30e238ed5f78155298d99a90e33ddf26ee55724c951aee95f978ba9"
   }
  }
 },
 "nbformat": 4,
 "nbformat_minor": 2
}
