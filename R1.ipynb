{
 "cells": [
  {
   "attachments": {},
   "cell_type": "markdown",
   "metadata": {},
   "source": [
    "#Problem 1 - Kmer composition \n",
    "\n",
    "For a fixed positive integer k, order all possible k-mers taken from an underlying alphabet lexicographically.\n",
    "\n",
    "Then the k-mer composition of a string s can be represented by an array A for \n",
    "which A[m] denotes the number of times that the mth k-mer (with respect to the lexicographic order) appears in s."
   ]
  },
  {
   "cell_type": "code",
   "execution_count": 53,
   "metadata": {},
   "outputs": [],
   "source": [
    "#Open and read file\n",
    "\n",
    "import re\n",
    "import os\n",
    "\n",
    "imput_file = \"./test.fasta\"\n",
    "\n",
    "#Eliminate \\n jumps to have one strig for each record\n",
    "def fasta_no_jump(imput, out):\n",
    "    fasta_file = open(imput, \"rt\")\n",
    "    output = open(out, \"wt\")\n",
    "\n",
    "    lin = fasta_file.readline()\n",
    "    output.write(lin)\n",
    "\n",
    "    for line in fasta_file:\n",
    "        match = re.search(r\"^>\",line)\n",
    "        if match:\n",
    "            output.write(\"\\n\" + line)\n",
    "        else:\n",
    "            output.write(line[0:len(line)-1])\n",
    "\n",
    "    fasta_file.close()\n",
    "    output.close()\n",
    "\n",
    "fasta_no_jump(imput_file, \"./1str.fasta\")\n",
    "\n"
   ]
  },
  {
   "cell_type": "code",
   "execution_count": 51,
   "metadata": {},
   "outputs": [],
   "source": [
    "#Kmer profile count generationg an output file\n",
    "\n",
    "klen = 4\n",
    "\n",
    "\n",
    "def kmer(k, base=\"\", kmer_dic={}): \n",
    "    if k == 0:\n",
    "        kmer_dic[base] = 0\n",
    "        return kmer_dic\n",
    "    else:\n",
    "        for c in \"ACGT\": \n",
    "            kmer(k-1,base + c)\n",
    "    return kmer_dic\n",
    "\n",
    "def kmer_prof(seq):\n",
    "    kmer_num = len(seq)-klen+1\n",
    "    all_kmerD = kmer(klen)\n",
    "\n",
    "    for i in range(kmer_num):\n",
    "        novo_kmer = seq[i:i+4]\n",
    "        all_kmerD[novo_kmer] += 1\n",
    "    \n",
    "    return all_kmerD\n",
    "\n",
    "\n",
    "#Printing\n",
    "\n",
    "def print_profile():\n",
    "    fasta = open(\"./1str.fasta\", \"rt\")\n",
    "    output = open(\"./output.txt\", \"wt\")\n",
    "\n",
    "    tag = fasta.readline()\n",
    "    sequence = fasta.readline()\n",
    "\n",
    "    final_dic = kmer_prof(sequence)\n",
    "    for x in final_dic.values():\n",
    "        output.write(str(x) + \" \")\n",
    "        #print(x, end=\" \")\n",
    "\n",
    "    fasta.close()\n",
    "    os.remove(\"./1str.fasta\")\n",
    "\n",
    "print_profile()"
   ]
  },
  {
   "cell_type": "code",
   "execution_count": 54,
   "metadata": {},
   "outputs": [
    {
     "name": "stdout",
     "output_type": "stream",
     "text": [
      "4 1 4 3 0 1 1 5 1 3 1 2 2 1 2 0 1 1 2 1 2 1 3 1 1 1 1 2 2 5 1 3 0 2 2 1 1 1 1 3 1 0 0 1 5 5 1 5 0 2 0 2 1 2 1 1 1 2 0 1 0 0 1 1 3 2 1 0 3 2 3 0 0 2 0 8 0 0 1 0 2 1 3 0 0 0 1 4 3 2 1 1 3 1 2 1 3 1 2 1 2 1 1 1 2 3 2 1 1 0 1 1 3 2 1 2 6 2 1 1 1 2 3 3 3 2 3 0 3 2 1 1 0 0 1 4 3 0 1 5 0 2 0 1 2 1 3 0 1 2 2 1 1 0 3 0 0 4 5 0 3 0 2 1 1 3 0 3 2 2 1 1 0 2 1 0 2 2 1 2 0 2 2 5 2 2 1 1 2 1 2 2 2 2 1 1 3 4 0 2 1 1 0 1 2 2 1 1 1 5 2 0 3 2 1 1 2 2 3 0 3 0 1 3 1 2 3 0 2 1 2 2 1 2 3 0 1 2 3 1 1 3 1 0 1 1 3 0 2 1 2 2 0 2 1 1 "
     ]
    }
   ],
   "source": [
    "#Kmer profile printing the solution in the terminal \n",
    "\n",
    "klen = 4\n",
    "\n",
    "\n",
    "def kmer(k, base=\"\", kmer_dic={}): \n",
    "    if k == 0:\n",
    "        kmer_dic[base] = 0\n",
    "        return kmer_dic\n",
    "    else:\n",
    "        for c in \"ACGT\": \n",
    "            kmer(k-1,base + c)\n",
    "    return kmer_dic\n",
    "\n",
    "def kmer_prof(seq):\n",
    "    kmer_num = len(seq)-klen+1\n",
    "    all_kmerD = kmer(klen)\n",
    "\n",
    "    for i in range(kmer_num):\n",
    "        novo_kmer = seq[i:i+4]\n",
    "        all_kmerD[novo_kmer] += 1\n",
    "    \n",
    "    return all_kmerD\n",
    "\n",
    "\n",
    "#Printing\n",
    "\n",
    "def print_profile():\n",
    "    fasta = open(\"./1str.fasta\", \"rt\")\n",
    "\n",
    "    tag = fasta.readline()\n",
    "    sequence = fasta.readline()\n",
    "\n",
    "    final_dic = kmer_prof(sequence)\n",
    "    for x in final_dic.values():\n",
    "        print(x, end=\" \")\n",
    "\n",
    "    os.remove(\"./1str.fasta\")\n",
    "\n",
    "print_profile()"
   ]
  }
 ],
 "metadata": {
  "kernelspec": {
   "display_name": "base",
   "language": "python",
   "name": "python3"
  },
  "language_info": {
   "codemirror_mode": {
    "name": "ipython",
    "version": 3
   },
   "file_extension": ".py",
   "mimetype": "text/x-python",
   "name": "python",
   "nbconvert_exporter": "python",
   "pygments_lexer": "ipython3",
   "version": "3.9.12 (main, Apr  5 2022, 01:53:17) \n[Clang 12.0.0 ]"
  },
  "orig_nbformat": 4,
  "vscode": {
   "interpreter": {
    "hash": "aa4479e0c30e238ed5f78155298d99a90e33ddf26ee55724c951aee95f978ba9"
   }
  }
 },
 "nbformat": 4,
 "nbformat_minor": 2
}
