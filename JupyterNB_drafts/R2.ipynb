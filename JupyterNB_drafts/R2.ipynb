{
 "cells": [
  {
   "attachments": {},
   "cell_type": "markdown",
   "metadata": {},
   "source": [
    "#Problem 2 - Overlap Graphs"
   ]
  },
  {
   "cell_type": "code",
   "execution_count": 69,
   "metadata": {},
   "outputs": [],
   "source": [
    "k = 3 #Minimum number of overlapping matches between 2 sequences\n",
    "input1 = open(\"R2_test.txt\", \"rt\") #Input file\n",
    "\n",
    "\n",
    "#1.Append the tags and the sequences to two lists\n",
    "tag_lst = []\n",
    "seq_lst = []\n",
    "\n",
    "while True:\n",
    "    tag = input1.readline() #Tag\n",
    "    if not tag:\n",
    "        break\n",
    "    seq = input1.readline() #First sequence\n",
    "    \n",
    "    tag_lst.append(tag[1:len(tag)].replace(\"\\n\",\"\"))\n",
    "    seq_lst.append(seq.replace(\"\\n\",\"\"))\n",
    "\n",
    "input1.close()\n",
    "\n",
    "\n",
    "#2.Create a file with the overlap graph\n",
    "out = open(\"./R2_output.txt\", \"wt\")\n",
    "out_written = \"No\"\n",
    "\n",
    "for x in range(0,len(seq_lst)):\n",
    "    for y in range(0,len(seq_lst)):\n",
    "        s1 = seq_lst[x]\n",
    "        s2 = seq_lst[y]\n",
    "        if s1 != s2:\n",
    "            tag1 = tag_lst[x]\n",
    "            tag2 = tag_lst[y]\n",
    "            if s1[len(s1)-k:len(s1)] == s2[0:k]:\n",
    "                \n",
    "                if out_written == \"No\":\n",
    "                    out_written = \"Yes\" \n",
    "                else:\n",
    "                    out.write(\"\\n\") \n",
    "                \n",
    "                out.write(tag1 + \" \" + tag2)\n",
    "\n",
    "out.close()\n",
    "\n"
   ]
  }
 ],
 "metadata": {
  "kernelspec": {
   "display_name": "base",
   "language": "python",
   "name": "python3"
  },
  "language_info": {
   "codemirror_mode": {
    "name": "ipython",
    "version": 3
   },
   "file_extension": ".py",
   "mimetype": "text/x-python",
   "name": "python",
   "nbconvert_exporter": "python",
   "pygments_lexer": "ipython3",
   "version": "3.9.12 (main, Apr  5 2022, 01:53:17) \n[Clang 12.0.0 ]"
  },
  "orig_nbformat": 4,
  "vscode": {
   "interpreter": {
    "hash": "aa4479e0c30e238ed5f78155298d99a90e33ddf26ee55724c951aee95f978ba9"
   }
  }
 },
 "nbformat": 4,
 "nbformat_minor": 2
}
