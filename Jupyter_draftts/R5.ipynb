{
 "cells": [
  {
   "attachments": {},
   "cell_type": "markdown",
   "metadata": {},
   "source": [
    "Problem 5 - Genome Assembly with Perfect Coverage"
   ]
  },
  {
   "cell_type": "code",
   "execution_count": 34,
   "metadata": {},
   "outputs": [],
   "source": [
    "file = \"./R5_testSC.txt\"\n",
    "\n",
    "##1.Create a list with the sequences\n",
    "input = open(file, \"rt\")\n",
    "\n",
    "seq_list = [] #Create an empty list\n",
    "for line in input: \n",
    "    seq_list.append(line.replace(\"\\n\",\"\")) #Append each line of the input file in the list\n",
    "\n",
    "input.close()\n",
    "\n",
    "##2.Constructing the DeBruijn Graph\n",
    "#Create the substrings pairs: from TAGC = (TAG, AGC) and write them in a list\n",
    "debruijn_graph = []\n",
    "\n",
    "for seq in seq_list: #For each sequence\n",
    "    substring1 = seq[0:len(seq)-1] #Calculating substring 1\n",
    "    substring2 = seq[1:len(seq)] #Calculating substring 2\n",
    "    \n",
    "    record = [substring1, substring2]\n",
    "    debruijn_graph.append(record)\n",
    "\n",
    "\n",
    "##3.Sort DeBruijn Graph\n",
    "\n",
    "debruijn_sorted = [debruijn_graph[0]] #The DeBruijn graph starts with a random record (the first one)\n",
    "\n",
    "for n in range(0,len(debruijn_graph)-1):\n",
    "    link_kmer = debruijn_sorted[n][1]\n",
    "    for record in debruijn_graph:\n",
    "        if record[0] == link_kmer:\n",
    "            debruijn_sorted.append(record)\n",
    "\n",
    "\n",
    "##4.Solving the DeBruijn graph into the cyclic superstring\n",
    "\n",
    "cyclic_superstring = debruijn_sorted[0][0] + debruijn_sorted[0][1][-1]\n",
    "\n",
    "for record in debruijn_sorted[1:len(debruijn_sorted)]:\n",
    "    cyclic_superstring += record[1][-1]\n",
    "\n",
    "##\n",
    "\n",
    "kmer_len = len(seq_list[0]) #The length of the first kmer (all kmers have the same lenth)\n",
    "\n",
    "out = open(\"./R5_output.txt\", \"wt\")\n",
    "out.write(cyclic_superstring[0:-kmer_len+1])\n",
    "out.close()"
   ]
  },
  {
   "cell_type": "code",
   "execution_count": 15,
   "metadata": {},
   "outputs": [
    {
     "name": "stdout",
     "output_type": "stream",
     "text": [
      "4\n",
      "5\n"
     ]
    }
   ],
   "source": [
    "for k in range(0,int(len(cyclic_superstring)/2)): #for a sequence length (k) from 0 to the minimum length of the two sequences\n",
    "    if cyclic_superstring[len(cyclic_superstring)-k:len(cyclic_superstring)] == cyclic_superstring[0:k]: #if the k last bases of s1 are equal to the first k bases of s2\n",
    "        overlap_bp = k #k is equal to the overlap bp; if there are no overlapping bp, k = 0\n",
    "\n",
    "print(cyclic_superstring)\n",
    "print(cyclic_superstring[overlap_bp:len(cyclic_superstring)])\n",
    "print(cyclic_superstring[overlap_bp:len(cyclic_superstring)])\n",
    "\n",
    "print(len(cyclic_superstring[overlap_bp:len(cyclic_superstring)]))\n",
    "print(len(\"AAGATTTCACCTGGCGCCCAAACTCTCGGGCATGTTCTCTACAGACTCGAGCAGTTTGGCTAATCGTGTTCCTACACTAGGTGCCTTGCGAGCCTTATTTTGGCTTCGTATAGAGCCTTTAGAGCTGTTGCAACCAATCTCGGTTCCGTTCGGTCAGCTCCACGACTCCTTAAGTCCTTGGACCCTAGATGACACCGTCAAATCCGAACTTTTGACTGGGTTGCCGTGTGTCGATGAGACCAGTATCTCTGTCATAACCATCGCCCTGCGAACACGAGCGCAGGATTGTAAATCGGGTAGTGTTCCGCTACGGTGGATTACCGGGGTATAACATTATAACCGATGCAAGGTCGGAATTCGAGCAACCTTCTACATATAATCAGTATTCGACGGGGGTCAGCATTGTTTTTCTGGGGCAGACAGCTTAATCAAACTCATGGTGATCCATTAGGAAGGCGCCCTTCGTTTACTTCAACATTACGAGAGACTTGACTACGGTCGAAGTTGGGGCCTTTGCTACTACGCCCAGAATTATAATCATTGTTGAATAGGGACAACGCGGACCAAAAGAAGCAACTACCATCTAAGGGGGGCAGGTACATGGCACCGAAGTGAGCTTCTTCCTCCCCTACTCGCGGTGAAGCTCCTTAAATTTGGTGTTGCATCTCTGACTAATTTGGCGATATAACACCGGTACTAACAAACTCAGCTTATCCGTTAGCATAGAAAGGCCAGTAGTTCGATCTAATGGGCCTATGCTCTTCTCGTAGGTAAGTCTTGGCACAAGGAATGAAGTTAGAGCCAAACGTCGGATGGTATGCACCCCCCTCAGCTAAAGAGTCCCGGGTAATCGGTATCCTAGGTCACAAAACAAAGGTCGAGTCAGCAGAACATCCCGGCGGCGCTGTGTCCATGAACCACTATTTCGGGGTTAGCTGTTCGAGTGCAACCAAGCTTGCCGCATCCTTCATTTGACCCAACATACATACCTATGTCCCACAAGGTCAGTGGGTAACAAATGACTGTCCTTAACGGCCTAGTCCAATATGTCACACCATATTCGACCCAAATCCGGAACTGAAAGGCGCACTCACCCGTGAAGAAGCGCTGACATCACGCCACTGAACAGCGACCTAGGACATACAGCCCGTTCCTGGCTACGGTGCACTAGGTCCGTTCCCCGGCTTAAGTTGGAGAGCAGGAAGATCTCGAGGGATCGATCCTAGACGACGAGGCTGGTACTCGGCAATGTCATCTATATGTCCTATTTCCATGGGTCGTATGACGCCGACTGTCATTGCCGAGGTTAGCCATCGGCCGAGTTTGTCTCGCCGCTCCACCCTACGACCTGCCTAACTTCCGGCGCTGGTCACGGATCATCCCGAGACACGAGTATCTCCAGAAAGTGGTGTCTACGGGGCGTGTCAGTTCGATGAGTCGGGACGCTTTTCCGATGCACCGTCTTGGTGAGTAATGCGCTCCCGATAACCCTGTCGTGACACTGTCCACCCCTTACAACGTTATCCAAATATTCGAAGATGACGGGGGGGAATCGAGAGAGTCGCTGACAGCAAAAACCGAAATGCAACATAGCCCATGATAGATACTTTAACACAGTCCGGGTTAAGCTACAAAATTAGAATTGTAAAGGTAATAGCGTCTGTTCCAGAACAAACCGCATGTGCGCTGCAACCAAAATCAACGTTTTCTTGATCCGCGCGTTATTTAATTGTTTGGATGGCACGCAAAAAATCCTTATCAGAGAAATGCAGCAAGCACTGTCTTCCACGCGTAGACCTTTAGTCTCTCTTTACGGTAACACACGGCAGAATAGTCGCACTCACTGTCCGATTAACGATGTCGGCCTAATGGTGTGGAATGATGGGACATGGGTTCCTTGCTGACACCCAAGCGGAACCGATCGACCCAAAGATCAAAAGAAGCCGGGACTGCCACGCTGTCTCAGTAGGCAAGGACAAGGGTGCAACGATACTGGGGGG\"))"
   ]
  }
 ],
 "metadata": {
  "kernelspec": {
   "display_name": "base",
   "language": "python",
   "name": "python3"
  },
  "language_info": {
   "codemirror_mode": {
    "name": "ipython",
    "version": 3
   },
   "file_extension": ".py",
   "mimetype": "text/x-python",
   "name": "python",
   "nbconvert_exporter": "python",
   "pygments_lexer": "ipython3",
   "version": "3.9.12 (main, Apr  5 2022, 01:53:17) \n[Clang 12.0.0 ]"
  },
  "orig_nbformat": 4,
  "vscode": {
   "interpreter": {
    "hash": "aa4479e0c30e238ed5f78155298d99a90e33ddf26ee55724c951aee95f978ba9"
   }
  }
 },
 "nbformat": 4,
 "nbformat_minor": 2
}
