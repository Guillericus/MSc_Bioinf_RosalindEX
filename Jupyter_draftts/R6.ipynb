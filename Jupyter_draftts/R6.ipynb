{
 "cells": [
  {
   "attachments": {},
   "cell_type": "markdown",
   "metadata": {},
   "source": [
    "Problem 6 - Assessing Assembly Quality with N50 and N75"
   ]
  },
  {
   "cell_type": "code",
   "execution_count": 6,
   "metadata": {},
   "outputs": [
    {
     "name": "stdout",
     "output_type": "stream",
     "text": [
      "163 121\n"
     ]
    }
   ],
   "source": [
    "file = \"./R6_testSC.txt\"\n",
    "\n",
    "##1.Create a list with the sequences\n",
    "input = open(file, \"rt\")\n",
    "\n",
    "seq_list = [] #Create an empty list\n",
    "for line in input: \n",
    "    seq_list.append(line.replace(\"\\n\",\"\")) #Append each line of the input file in the list\n",
    "\n",
    "input.close()\n",
    "\n",
    "##Sort the list by the value len\n",
    "def len_values(val):\n",
    "  return len(val)\n",
    "\n",
    "seq_list.sort(reverse=True, key=len_values)\n",
    "\n",
    "##Calculate N50 and N75\n",
    "\n",
    "total_bp = 0\n",
    "for seq in seq_list:\n",
    "    total_bp += len(seq)\n",
    "\n",
    "def N50_calculator(seq_records):\n",
    "    bp_count = 0\n",
    "    for seq in seq_records:\n",
    "        bp_count += len(seq)\n",
    "        if bp_count >= total_bp*0.5:\n",
    "            N50 = len(seq)\n",
    "            return N50\n",
    "\n",
    "def N75_calculator(seq_records):\n",
    "    bp_count = 0\n",
    "    for seq in seq_records:\n",
    "        bp_count += len(seq)\n",
    "        if bp_count >= total_bp*0.75:\n",
    "            N75 = len(seq)\n",
    "            return N75\n",
    "\n",
    "N50 = N50_calculator(seq_list)\n",
    "N75 = N75_calculator(seq_list)\n",
    "\n",
    "print(str(N50) + \" \" + str(N75)) #Print output"
   ]
  }
 ],
 "metadata": {
  "kernelspec": {
   "display_name": "base",
   "language": "python",
   "name": "python3"
  },
  "language_info": {
   "codemirror_mode": {
    "name": "ipython",
    "version": 3
   },
   "file_extension": ".py",
   "mimetype": "text/x-python",
   "name": "python",
   "nbconvert_exporter": "python",
   "pygments_lexer": "ipython3",
   "version": "3.9.12"
  },
  "orig_nbformat": 4,
  "vscode": {
   "interpreter": {
    "hash": "aa4479e0c30e238ed5f78155298d99a90e33ddf26ee55724c951aee95f978ba9"
   }
  }
 },
 "nbformat": 4,
 "nbformat_minor": 2
}
